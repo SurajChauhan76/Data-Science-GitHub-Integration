{
 "cells": [
  {
   "cell_type": "code",
   "execution_count": null,
   "id": "0",
   "metadata": {},
   "outputs": [],
   "source": [
    "# Import libraries\n",
    "import pandas as pd\n",
    "import numpy as np\n",
    "import matplotlib.pyplot as plt\n",
    "import seaborn as sns"
   ]
  },
  {
   "cell_type": "code",
   "execution_count": null,
   "id": "1",
   "metadata": {},
   "outputs": [],
   "source": [
    "import os\n",
    "print(os.getcwd())"
   ]
  },
  {
   "cell_type": "markdown",
   "id": "2",
   "metadata": {},
   "source": [
    "#### Fix: Go one level up in directory to fetch the data using (../data/file_name) from data folder"
   ]
  },
  {
   "cell_type": "code",
   "execution_count": null,
   "id": "3",
   "metadata": {},
   "outputs": [],
   "source": [
    "# Load the data\n",
    "df = pd.read_csv('../data/employee_insights_cleaned.csv')\n",
    "df.head()"
   ]
  },
  {
   "cell_type": "markdown",
   "id": "4",
   "metadata": {},
   "source": [
    "## Analyzing work mode effectiveness"
   ]
  },
  {
   "cell_type": "code",
   "execution_count": null,
   "id": "5",
   "metadata": {},
   "outputs": [],
   "source": [
    "mode_satisfaction = df.groupby('work_mode')['satisfaction_score'].agg(['mean', 'count'])\n",
    "print(\"Work Mode Analysis:\")\n",
    "print(mode_satisfaction)"
   ]
  },
  {
   "cell_type": "markdown",
   "id": "6",
   "metadata": {},
   "source": [
    "This analysis groups employee satisfaction scores by work mode (e.g., remote, hybrid, in-office) and calculates the mean satisfaction and count for each group."
   ]
  },
  {
   "cell_type": "markdown",
   "id": "7",
   "metadata": {},
   "source": [
    "### Visualizing the Result"
   ]
  },
  {
   "cell_type": "code",
   "execution_count": null,
   "id": "8",
   "metadata": {},
   "outputs": [],
   "source": [
    "plt.figure(figsize=(10, 5))\n",
    "mode_satisfaction['mean'].plot(kind='bar')\n",
    "plt.title('Average Satisfaction by Work Mode')\n",
    "plt.xlabel('Work Mode')\n",
    "plt.xticks(rotation=45)\n",
    "plt.ylabel('Satisfaction Score')\n",
    "plt.tight_layout()\n",
    "plt.savefig('../visuals/satisfaction_by_workmode.png')\n",
    "plt.show()"
   ]
  },
  {
   "cell_type": "markdown",
   "id": "9",
   "metadata": {},
   "source": [
    "# On Terminal"
   ]
  },
  {
   "cell_type": "markdown",
   "id": "10",
   "metadata": {},
   "source": [
    "## Add the data_analysis.ipynb\n",
    "1. cd OneDrive\\Desktop\\Data_Science\\Python_Data_Science\\GitHubIntegration\n",
    "2. git add notebooks/data_analysis.ipynb\n",
    "3. git commit -m \"Added initial data analysis notebook\"\n",
    "4. git push # Directly uploads to the main branch now as -u was specified previously\n",
    "\n",
    "## Add the visual chart\n",
    "1. git add visuals/satisfaction_by_workmode.png\n",
    "2. git commit -m \"Added initial data analysis output chart\"\n",
    "3. git push"
   ]
  },
  {
   "cell_type": "markdown",
   "id": "11",
   "metadata": {},
   "source": [
    "# Configuring Git Metadata\n",
    "An important step for version-controlled notebooks is configuring how Git handles notebook outputs:"
   ]
  },
  {
   "cell_type": "code",
   "execution_count": null,
   "id": "12",
   "metadata": {},
   "outputs": [],
   "source": [
    "import nbformat\n",
    "\n",
    "# Load the notebook\n",
    "notebook = nbformat.read('data_analysis.ipynb', as_version=4)\n",
    "\n",
    "# Set metadata to supress output in Git\n",
    "notebook['metadata']['git'] = {'supress_outputs': True}\n",
    "\n",
    "# Save the updated notebook\n",
    "nbformat.write(notebook, 'data_analysis.ipynb')"
   ]
  },
  {
   "cell_type": "markdown",
   "id": "13",
   "metadata": {},
   "source": [
    "###  Output does not get suppressed yet. Need tool like nbstripout or nbdime to supress the output"
   ]
  },
  {
   "cell_type": "markdown",
   "id": "14",
   "metadata": {},
   "source": [
    "# On Teriminal:\n",
    "### ✅ What You Can Do Instead\n",
    "To actually suppress outputs in Git, you need to strip them before committing. Here are two solid options:\n",
    "1. Use nbstripout\n",
    "\n",
    "This tool removes outputs automatically when you commit.\n",
    "- pip install nbstripout\n",
    "- nbstripout --install\n",
    "\n",
    "This installs a Git filter that strips outputs from notebooks before they’re committed. You can also apply it manually:\n",
    "- nbstripout your_notebook.ipynb"
   ]
  },
  {
   "cell_type": "code",
   "execution_count": null,
   "id": "15",
   "metadata": {},
   "outputs": [],
   "source": []
  }
 ],
 "metadata": {
  "kernelspec": {
   "display_name": "Python [conda env:base] *",
   "language": "python",
   "name": "conda-base-py"
  },
  "language_info": {
   "codemirror_mode": {
    "name": "ipython",
    "version": 3
   },
   "file_extension": ".py",
   "mimetype": "text/x-python",
   "name": "python",
   "nbconvert_exporter": "python",
   "pygments_lexer": "ipython3",
   "version": "3.13.5"
  }
 },
 "nbformat": 4,
 "nbformat_minor": 5
}
