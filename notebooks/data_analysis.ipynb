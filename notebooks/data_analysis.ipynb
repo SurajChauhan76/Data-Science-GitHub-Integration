{
 "cells": [
  {
   "cell_type": "code",
   "execution_count": 1,
   "id": "8e9689d6-4bc3-4a13-84dd-061450a91188",
   "metadata": {},
   "outputs": [],
   "source": [
    "# Import libraries\n",
    "import pandas as pd\n",
    "import numpy as np\n",
    "import matplotlib.pyplot as plt\n",
    "import seaborn as sns"
   ]
  },
  {
   "cell_type": "code",
   "execution_count": 8,
   "id": "f0d29cdc-ab42-4a42-b456-b44212ff8781",
   "metadata": {},
   "outputs": [
    {
     "name": "stdout",
     "output_type": "stream",
     "text": [
      "C:\\Users\\suraj\\OneDrive\\Desktop\\Data_Science\\Python_Data_Science\\GitHubIntegration\\notebooks\n"
     ]
    }
   ],
   "source": [
    "import os\n",
    "print(os.getcwd())"
   ]
  },
  {
   "cell_type": "markdown",
   "id": "714f141b-f047-48bb-9661-7a3d0f21a5e2",
   "metadata": {},
   "source": [
    "#### Fix: Go one level up in directory to fetch the data using (../data/file_name) from data folder"
   ]
  },
  {
   "cell_type": "code",
   "execution_count": 9,
   "id": "7db37ec7-c177-4416-9479-05aaf2424a8f",
   "metadata": {},
   "outputs": [
    {
     "data": {
      "text/html": [
       "<div>\n",
       "<style scoped>\n",
       "    .dataframe tbody tr th:only-of-type {\n",
       "        vertical-align: middle;\n",
       "    }\n",
       "\n",
       "    .dataframe tbody tr th {\n",
       "        vertical-align: top;\n",
       "    }\n",
       "\n",
       "    .dataframe thead th {\n",
       "        text-align: right;\n",
       "    }\n",
       "</style>\n",
       "<table border=\"1\" class=\"dataframe\">\n",
       "  <thead>\n",
       "    <tr style=\"text-align: right;\">\n",
       "      <th></th>\n",
       "      <th>employee_id</th>\n",
       "      <th>age</th>\n",
       "      <th>salary</th>\n",
       "      <th>promotion_eligible</th>\n",
       "      <th>last_training_date</th>\n",
       "      <th>department</th>\n",
       "      <th>work_experience</th>\n",
       "      <th>projects_completed</th>\n",
       "      <th>hours_worked_weekly</th>\n",
       "      <th>work_mode</th>\n",
       "      <th>last_promotion_date</th>\n",
       "      <th>satisfaction_score</th>\n",
       "      <th>overtime_hours</th>\n",
       "    </tr>\n",
       "  </thead>\n",
       "  <tbody>\n",
       "    <tr>\n",
       "      <th>0</th>\n",
       "      <td>E0001</td>\n",
       "      <td>53</td>\n",
       "      <td>56910</td>\n",
       "      <td>Y</td>\n",
       "      <td>2022-01-02</td>\n",
       "      <td>It</td>\n",
       "      <td>9</td>\n",
       "      <td>14</td>\n",
       "      <td>44.286826</td>\n",
       "      <td>ONSITE</td>\n",
       "      <td>2020-01-31</td>\n",
       "      <td>9.9</td>\n",
       "      <td>2.1</td>\n",
       "    </tr>\n",
       "    <tr>\n",
       "      <th>1</th>\n",
       "      <td>E0002</td>\n",
       "      <td>39</td>\n",
       "      <td>50206</td>\n",
       "      <td>Y</td>\n",
       "      <td>2022-01-09</td>\n",
       "      <td>Hr</td>\n",
       "      <td>12</td>\n",
       "      <td>4</td>\n",
       "      <td>48.524347</td>\n",
       "      <td>ONSITE</td>\n",
       "      <td>2020-02-29</td>\n",
       "      <td>6.8</td>\n",
       "      <td>3.8</td>\n",
       "    </tr>\n",
       "    <tr>\n",
       "      <th>2</th>\n",
       "      <td>E0003</td>\n",
       "      <td>32</td>\n",
       "      <td>73419</td>\n",
       "      <td>Y</td>\n",
       "      <td>2022-01-16</td>\n",
       "      <td>Sales</td>\n",
       "      <td>1</td>\n",
       "      <td>9</td>\n",
       "      <td>49.179871</td>\n",
       "      <td>REMOTE</td>\n",
       "      <td>2020-03-31</td>\n",
       "      <td>9.5</td>\n",
       "      <td>9.3</td>\n",
       "    </tr>\n",
       "    <tr>\n",
       "      <th>3</th>\n",
       "      <td>E0004</td>\n",
       "      <td>45</td>\n",
       "      <td>100636</td>\n",
       "      <td>Y</td>\n",
       "      <td>2022-01-23</td>\n",
       "      <td>Sales</td>\n",
       "      <td>1</td>\n",
       "      <td>6</td>\n",
       "      <td>50.569759</td>\n",
       "      <td>REMOTE</td>\n",
       "      <td>2020-04-30</td>\n",
       "      <td>4.7</td>\n",
       "      <td>7.2</td>\n",
       "    </tr>\n",
       "    <tr>\n",
       "      <th>4</th>\n",
       "      <td>E0005</td>\n",
       "      <td>43</td>\n",
       "      <td>100015</td>\n",
       "      <td>Y</td>\n",
       "      <td>2022-01-30</td>\n",
       "      <td>Hr</td>\n",
       "      <td>15</td>\n",
       "      <td>13</td>\n",
       "      <td>48.605291</td>\n",
       "      <td>HYBRID</td>\n",
       "      <td>2020-05-31</td>\n",
       "      <td>8.3</td>\n",
       "      <td>0.5</td>\n",
       "    </tr>\n",
       "  </tbody>\n",
       "</table>\n",
       "</div>"
      ],
      "text/plain": [
       "  employee_id  age  salary promotion_eligible last_training_date department  \\\n",
       "0       E0001   53   56910                  Y         2022-01-02         It   \n",
       "1       E0002   39   50206                  Y         2022-01-09         Hr   \n",
       "2       E0003   32   73419                  Y         2022-01-16      Sales   \n",
       "3       E0004   45  100636                  Y         2022-01-23      Sales   \n",
       "4       E0005   43  100015                  Y         2022-01-30         Hr   \n",
       "\n",
       "   work_experience  projects_completed  hours_worked_weekly work_mode  \\\n",
       "0                9                  14            44.286826    ONSITE   \n",
       "1               12                   4            48.524347    ONSITE   \n",
       "2                1                   9            49.179871    REMOTE   \n",
       "3                1                   6            50.569759    REMOTE   \n",
       "4               15                  13            48.605291    HYBRID   \n",
       "\n",
       "  last_promotion_date  satisfaction_score  overtime_hours  \n",
       "0          2020-01-31                 9.9             2.1  \n",
       "1          2020-02-29                 6.8             3.8  \n",
       "2          2020-03-31                 9.5             9.3  \n",
       "3          2020-04-30                 4.7             7.2  \n",
       "4          2020-05-31                 8.3             0.5  "
      ]
     },
     "execution_count": 9,
     "metadata": {},
     "output_type": "execute_result"
    }
   ],
   "source": [
    "# Load the data\n",
    "df = pd.read_csv('../data/employee_insights_cleaned.csv')\n",
    "df.head()"
   ]
  },
  {
   "cell_type": "markdown",
   "id": "fdb0681e-827d-4317-a142-090c2297b0e6",
   "metadata": {},
   "source": [
    "## Analyzing work mode effectiveness"
   ]
  },
  {
   "cell_type": "code",
   "execution_count": 10,
   "id": "911e7643-04d1-4049-a50d-5146435bd5dc",
   "metadata": {},
   "outputs": [
    {
     "name": "stdout",
     "output_type": "stream",
     "text": [
      "Work Mode Analysis:\n",
      "               mean  count\n",
      "work_mode                 \n",
      "HYBRID     6.454286     35\n",
      "ONSITE     6.518750     32\n",
      "REMOTE     6.866667     33\n"
     ]
    }
   ],
   "source": [
    "mode_satisfaction = df.groupby('work_mode')['satisfaction_score'].agg(['mean', 'count'])\n",
    "print(\"Work Mode Analysis:\")\n",
    "print(mode_satisfaction)"
   ]
  },
  {
   "cell_type": "markdown",
   "id": "30431426-80a3-46d0-8e33-b47962acf157",
   "metadata": {},
   "source": [
    "This analysis groups employee satisfaction scores by work mode (e.g., remote, hybrid, in-office) and calculates the mean satisfaction and count for each group."
   ]
  },
  {
   "cell_type": "markdown",
   "id": "77d0d97b-3a95-4ff6-85ef-857f6e182e99",
   "metadata": {},
   "source": [
    "### Visualizing the Result"
   ]
  },
  {
   "cell_type": "code",
   "execution_count": 13,
   "id": "bd3842b6-0e89-4306-bd74-f2acccd2ffba",
   "metadata": {},
   "outputs": [
    {
     "data": {
      "image/png": "[encoded data removed]",
      "text/plain": [
       "<Figure size 1000x500 with 1 Axes>"
      ]
     },
     "metadata": {},
     "output_type": "display_data"
    }
   ],
   "source": [
    "plt.figure(figsize=(10, 5))\n",
    "mode_satisfaction['mean'].plot(kind='bar')\n",
    "plt.title('Average Satisfaction by Work Mode')\n",
    "plt.xlabel('Work Mode')\n",
    "plt.xticks(rotation=45)\n",
    "plt.ylabel('Satisfaction Score')\n",
    "plt.tight_layout()\n",
    "plt.savefig('../visuals/satisfaction_by_workmode.png')\n",
    "plt.show()"
   ]
  },
  {
   "cell_type": "markdown",
   "id": "90ec7e93-3ffb-4760-a43a-317f8b97a49e",
   "metadata": {},
   "source": [
    "# On Terminal"
   ]
  },
  {
   "cell_type": "markdown",
   "id": "bb107d20-9682-4b94-9a4b-4015328e199c",
   "metadata": {},
   "source": [
    "## Add the data_analysis.ipynb\n",
    "1. cd OneDrive\\Desktop\\Data_Science\\Python_Data_Science\\GitHubIntegration\n",
    "2. git add notebooks/data_analysis.ipynb\n",
    "3. git commit -m \"Added initial data analysis notebook\"\n",
    "4. git push # Directly uploads to the main branch now as -u was specified previously\n",
    "\n",
    "## Add the visual chart\n",
    "1. git add visuals/satisfaction_by_workmode.png\n",
    "2. git commit -m \"Added initial data analysis output chart\"\n",
    "3. git push"
   ]
  },
  {
   "cell_type": "markdown",
   "id": "3b8dd110-02d7-4ce2-b740-24d58e04f381",
   "metadata": {},
   "source": [
    "# Configuring Git Metadata\n",
    "An important step for version-controlled notebooks is configuring how Git handles notebook outputs:"
   ]
  },
  {
   "cell_type": "code",
   "execution_count": null,
   "id": "4bad1c18-ea08-4d57-85e7-2bec0d8b7e20",
   "metadata": {},
   "outputs": [],
   "source": [
    "import nbformat\n",
    "\n",
    "# Load the notebook\n",
    "notebook = nbformat.read('data_analysis.ipynb', as_version=4)\n",
    "\n",
    "# Set metadata to supress output in Git\n",
    "notebook['metadata']['git'] = {'supress_outputs': True}\n",
    "\n",
    "# Save the updated notebook"
   ]
  }
 ],
 "metadata": {
  "git": {
   "supress_outputs": true
  },
  "kernelspec": {
   "display_name": "Python [conda env:base] *",
   "language": "python",
   "name": "conda-base-py"
  },
  "language_info": {
   "codemirror_mode": {
    "name": "ipython",
    "version": 3
   },
   "file_extension": ".py",
   "mimetype": "text/x-python",
   "name": "python",
   "nbconvert_exporter": "python",
   "pygments_lexer": "ipython3",
   "version": "3.13.5"
  }
 },
 "nbformat": 4,
 "nbformat_minor": 5
}
